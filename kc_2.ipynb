{
 "cells": [
  {
   "cell_type": "code",
   "execution_count": 8,
   "metadata": {},
   "outputs": [],
   "source": [
    "import pandas as pd\n",
    "import seaborn as sns"
   ]
  },
  {
   "cell_type": "code",
   "execution_count": 10,
   "metadata": {},
   "outputs": [
    {
     "data": {
      "text/html": [
       "<div>\n",
       "<style scoped>\n",
       "    .dataframe tbody tr th:only-of-type {\n",
       "        vertical-align: middle;\n",
       "    }\n",
       "\n",
       "    .dataframe tbody tr th {\n",
       "        vertical-align: top;\n",
       "    }\n",
       "\n",
       "    .dataframe thead th {\n",
       "        text-align: right;\n",
       "    }\n",
       "</style>\n",
       "<table border=\"1\" class=\"dataframe\">\n",
       "  <thead>\n",
       "    <tr style=\"text-align: right;\">\n",
       "      <th></th>\n",
       "      <th>channelId</th>\n",
       "      <th>customUrl</th>\n",
       "      <th>title</th>\n",
       "      <th>description</th>\n",
       "      <th>country</th>\n",
       "      <th>viewCount</th>\n",
       "      <th>subscriberCount</th>\n",
       "      <th>videoCount</th>\n",
       "      <th>madeForkids</th>\n",
       "      <th>creationDate</th>\n",
       "    </tr>\n",
       "  </thead>\n",
       "  <tbody>\n",
       "    <tr>\n",
       "      <th>0</th>\n",
       "      <td>UCFmL725KKPx2URVPvH3Gp8w</td>\n",
       "      <td>@asmrglow</td>\n",
       "      <td>ASMR Glow</td>\n",
       "      <td>Here's everywhere you can find me: https://lin...</td>\n",
       "      <td>US</td>\n",
       "      <td>579354212</td>\n",
       "      <td>1720000</td>\n",
       "      <td>736</td>\n",
       "      <td>False</td>\n",
       "      <td>2016-10-24T08:22:54Z</td>\n",
       "    </tr>\n",
       "    <tr>\n",
       "      <th>1</th>\n",
       "      <td>UCvp9ypbbOQ2-vtuO-J3k-lw</td>\n",
       "      <td>@alexandriaasmr8317</td>\n",
       "      <td>Alexandria ASMR</td>\n",
       "      <td>ASMR - Autonomous sensory meridian response. I...</td>\n",
       "      <td>US</td>\n",
       "      <td>108539091</td>\n",
       "      <td>548000</td>\n",
       "      <td>295</td>\n",
       "      <td>False</td>\n",
       "      <td>2018-10-16T19:45:42Z</td>\n",
       "    </tr>\n",
       "    <tr>\n",
       "      <th>2</th>\n",
       "      <td>UCrZyUPCnPgPDFNzawuI2QVA</td>\n",
       "      <td>@asmrjas</td>\n",
       "      <td>ASMR Jas</td>\n",
       "      <td>Hey, my name is Jas :)\\nI stumbled across ASMR...</td>\n",
       "      <td>CA</td>\n",
       "      <td>28304876</td>\n",
       "      <td>313000</td>\n",
       "      <td>60</td>\n",
       "      <td>False</td>\n",
       "      <td>2020-05-03T02:20:06.799314Z</td>\n",
       "    </tr>\n",
       "    <tr>\n",
       "      <th>3</th>\n",
       "      <td>UCNkX5VXtTe4Clkogm6h6QWA</td>\n",
       "      <td>@gingerasmr</td>\n",
       "      <td>Ginger ASMR</td>\n",
       "      <td>Hello there! My name's Megan and welcome to my...</td>\n",
       "      <td>US</td>\n",
       "      <td>56191711</td>\n",
       "      <td>241000</td>\n",
       "      <td>233</td>\n",
       "      <td>False</td>\n",
       "      <td>2019-01-12T22:57:14Z</td>\n",
       "    </tr>\n",
       "    <tr>\n",
       "      <th>4</th>\n",
       "      <td>UCikebqFWoT3QC9axUbXCPYw</td>\n",
       "      <td>@theasmrdarling</td>\n",
       "      <td>ASMR Darling</td>\n",
       "      <td>Hello and welcome to my ASMR Youtube channel! ...</td>\n",
       "      <td>US</td>\n",
       "      <td>615078281</td>\n",
       "      <td>2520000</td>\n",
       "      <td>269</td>\n",
       "      <td>False</td>\n",
       "      <td>2014-12-11T04:12:54Z</td>\n",
       "    </tr>\n",
       "  </tbody>\n",
       "</table>\n",
       "</div>"
      ],
      "text/plain": [
       "                  channelId            customUrl            title  \\\n",
       "0  UCFmL725KKPx2URVPvH3Gp8w            @asmrglow        ASMR Glow   \n",
       "1  UCvp9ypbbOQ2-vtuO-J3k-lw  @alexandriaasmr8317  Alexandria ASMR   \n",
       "2  UCrZyUPCnPgPDFNzawuI2QVA             @asmrjas         ASMR Jas   \n",
       "3  UCNkX5VXtTe4Clkogm6h6QWA          @gingerasmr      Ginger ASMR   \n",
       "4  UCikebqFWoT3QC9axUbXCPYw      @theasmrdarling     ASMR Darling   \n",
       "\n",
       "                                         description country  viewCount  \\\n",
       "0  Here's everywhere you can find me: https://lin...      US  579354212   \n",
       "1  ASMR - Autonomous sensory meridian response. I...      US  108539091   \n",
       "2  Hey, my name is Jas :)\\nI stumbled across ASMR...      CA   28304876   \n",
       "3  Hello there! My name's Megan and welcome to my...      US   56191711   \n",
       "4  Hello and welcome to my ASMR Youtube channel! ...      US  615078281   \n",
       "\n",
       "   subscriberCount  videoCount madeForkids                 creationDate  \n",
       "0          1720000         736       False         2016-10-24T08:22:54Z  \n",
       "1           548000         295       False         2018-10-16T19:45:42Z  \n",
       "2           313000          60       False  2020-05-03T02:20:06.799314Z  \n",
       "3           241000         233       False         2019-01-12T22:57:14Z  \n",
       "4          2520000         269       False         2014-12-11T04:12:54Z  "
      ]
     },
     "execution_count": 10,
     "metadata": {},
     "output_type": "execute_result"
    }
   ],
   "source": [
    "df = pd.read_csv('assets/ASMR_channels.csv')\n",
    "df.head()"
   ]
  },
  {
   "cell_type": "markdown",
   "metadata": {},
   "source": []
  },
  {
   "cell_type": "code",
   "execution_count": 14,
   "metadata": {},
   "outputs": [
    {
     "data": {
      "text/plain": [
       "<AxesSubplot:xlabel='viewCount', ylabel='subscriberCount'>"
      ]
     },
     "execution_count": 14,
     "metadata": {},
     "output_type": "execute_result"
    },
    {
     "data": {
      "image/png": "[encoded data removed]",
      "text/plain": [
       "<Figure size 640x480 with 1 Axes>"
      ]
     },
     "metadata": {},
     "output_type": "display_data"
    }
   ],
   "source": [
    "sns.scatterplot(x=df['viewCount'],\n",
    "                y=df['subscriberCount'])"
   ]
  }
 ],
 "metadata": {
  "kernelspec": {
   "display_name": "base",
   "language": "python",
   "name": "python3"
  },
  "language_info": {
   "codemirror_mode": {
    "name": "ipython",
    "version": 3
   },
   "file_extension": ".py",
   "mimetype": "text/x-python",
   "name": "python",
   "nbconvert_exporter": "python",
   "pygments_lexer": "ipython3",
   "version": "3.9.13"
  },
  "orig_nbformat": 4,
  "vscode": {
   "interpreter": {
    "hash": "4e71c48c4e802a240b96647d1e790144f89859a105936eb321bd984143b3ed4f"
   }
  }
 },
 "nbformat": 4,
 "nbformat_minor": 2
}
