{
 "cells": [
  {
   "cell_type": "code",
   "execution_count": null,
   "id": "21e1618f",
   "metadata": {},
   "outputs": [],
   "source": [
    "print(\"Hello World\")"
   ]
  },
  {
   "cell_type": "code",
   "execution_count": null,
   "id": "358755b0",
   "metadata": {},
   "outputs": [],
   "source": [
    "pets = [\n",
    "    {\n",
    "        \"name\" : \"Moose\",\n",
    "        \"type\" : \"dog\",\n",
    "        \"color\" : \"brown\",\n",
    "        \"age\" : 6}, \n",
    "    {\n",
    "        \"name\" : \"Lucy\",\n",
    "        \"type\" : \"cat\",\n",
    "        \"color\" : \"tabby\",\n",
    "        \"age\" : 4},\n",
    "    {\n",
    "        \"name\" : \"Axl Rose\",\n",
    "        \"type\" : \"fish\",\n",
    "        \"color\" : \"purple\",\n",
    "        \"age\" : 3},\n",
    "    {\n",
    "        \"name\" : \"Greg\",\n",
    "        \"type\" : \"frog\",\n",
    "        \"color\" : \"gray\",\n",
    "        \"age\" : 2},\n",
    "    {\n",
    "        \"name\" : \"Ladybug\",\n",
    "        \"type\" : \"cat\",\n",
    "        \"color\" : \"black\",\n",
    "        \"age\" :1}\n",
    "]"
   ]
  },
  {
   "cell_type": "code",
   "execution_count": 16,
   "id": "368393b8",
   "metadata": {},
   "outputs": [
    {
     "name": "stdout",
     "output_type": "stream",
     "text": [
      "{'name': 'Moose', 'type': 'dog', 'color': 'brown', 'age': 6}\n"
     ]
    }
   ],
   "source": [
    "print(pets[0])"
   ]
  },
  {
   "cell_type": "code",
   "execution_count": 18,
   "id": "28197831",
   "metadata": {},
   "outputs": [
    {
     "name": "stdout",
     "output_type": "stream",
     "text": [
      "Ladybug\n"
     ]
    }
   ],
   "source": [
    "print(pets[4][\"name\"])"
   ]
  },
  {
   "cell_type": "code",
   "execution_count": 14,
   "id": "749ab93b",
   "metadata": {},
   "outputs": [],
   "source": [
    "grandparents = (\"Archie\", \"Josephine\", \"Harold\", \"Shirley\")"
   ]
  },
  {
   "cell_type": "code",
   "execution_count": 15,
   "id": "72ed79f8",
   "metadata": {},
   "outputs": [
    {
     "name": "stdout",
     "output_type": "stream",
     "text": [
      "Harold\n"
     ]
    }
   ],
   "source": [
    "print(grandparents[2])"
   ]
  }
 ],
 "metadata": {
  "kernelspec": {
   "display_name": "Python 3 (ipykernel)",
   "language": "python",
   "name": "python3"
  },
  "language_info": {
   "codemirror_mode": {
    "name": "ipython",
    "version": 3
   },
   "file_extension": ".py",
   "mimetype": "text/x-python",
   "name": "python",
   "nbconvert_exporter": "python",
   "pygments_lexer": "ipython3",
   "version": "3.9.13"
  }
 },
 "nbformat": 4,
 "nbformat_minor": 5
}
